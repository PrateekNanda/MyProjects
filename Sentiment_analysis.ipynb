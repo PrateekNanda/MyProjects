{
 "cells": [
  {
   "cell_type": "code",
   "execution_count": null,
   "metadata": {
    "_cell_guid": "b1076dfc-b9ad-4769-8c92-a6c4dae69d19",
    "_uuid": "8f2839f25d086af736a60e9eeb907d3b93b6e0e5",
    "execution": {
     "iopub.execute_input": "2023-02-06T12:06:24.880751Z",
     "iopub.status.busy": "2023-02-06T12:06:24.879690Z",
     "iopub.status.idle": "2023-02-06T12:06:24.895701Z",
     "shell.execute_reply": "2023-02-06T12:06:24.894596Z",
     "shell.execute_reply.started": "2023-02-06T12:06:24.880710Z"
    }
   },
   "outputs": [],
   "source": [
    "\n",
    "\n",
    "import numpy as np\n",
    "import pandas as pd\n",
    "import os"
   ]
  },
  {
   "cell_type": "markdown",
   "metadata": {},
   "source": [
    "# Index\n",
    "* Importing Libraries\n",
    "* Reading csv file\n",
    "* Simplify the data\n",
    "* analysis\n",
    "* dropping unnecessary columns\n",
    "* EDA\n",
    "* Word cloud positive data\n",
    "* Word cloud negative data\n",
    "* TFIDF for sentiment analysis\n",
    "* Train Test Split\n",
    "* LogisticRegression\n",
    "* Accuracy Score: 85%"
   ]
  },
  {
   "cell_type": "markdown",
   "metadata": {},
   "source": [
    "# Importing Libraries"
   ]
  },
  {
   "cell_type": "code",
   "execution_count": null,
   "metadata": {
    "execution": {
     "iopub.execute_input": "2023-02-06T12:06:34.905417Z",
     "iopub.status.busy": "2023-02-06T12:06:34.905066Z",
     "iopub.status.idle": "2023-02-06T12:06:34.914549Z",
     "shell.execute_reply": "2023-02-06T12:06:34.913172Z",
     "shell.execute_reply.started": "2023-02-06T12:06:34.905387Z"
    }
   },
   "outputs": [],
   "source": [
    "import matplotlib.pyplot as plt\n",
    "import seaborn as sns\n",
    "from string import punctuation\n",
    "from nltk.tokenize import word_tokenize\n",
    "from nltk.stem import LancasterStemmer\n",
    "from string import punctuation\n",
    "from nltk.corpus import stopwords\n",
    "from nltk.tokenize import word_tokenize\n",
    "from nltk.stem import LancasterStemmer\n",
    "from nltk.stem.wordnet import WordNetLemmatizer\n",
    "import re\n",
    "import warnings\n",
    "warnings.filterwarnings('ignore')"
   ]
  },
  {
   "cell_type": "markdown",
   "metadata": {},
   "source": [
    "# Reading csv file"
   ]
  },
  {
   "cell_type": "code",
   "execution_count": null,
   "metadata": {
    "execution": {
     "iopub.execute_input": "2023-02-06T12:06:45.566431Z",
     "iopub.status.busy": "2023-02-06T12:06:45.566032Z",
     "iopub.status.idle": "2023-02-06T12:06:48.070099Z",
     "shell.execute_reply": "2023-02-06T12:06:48.069028Z",
     "shell.execute_reply.started": "2023-02-06T12:06:45.566399Z"
    }
   },
   "outputs": [],
   "source": [
    "df = pd.read_csv('data.csv')"
   ]
  },
  {
   "cell_type": "code",
   "execution_count": null,
   "metadata": {
    "execution": {
     "iopub.execute_input": "2023-02-06T12:06:52.872181Z",
     "iopub.status.busy": "2023-02-06T12:06:52.871799Z",
     "iopub.status.idle": "2023-02-06T12:06:53.038671Z",
     "shell.execute_reply": "2023-02-06T12:06:53.037668Z",
     "shell.execute_reply.started": "2023-02-06T12:06:52.872150Z"
    }
   },
   "outputs": [],
   "source": [
    "df.isnull().sum()"
   ]
  },
  {
   "cell_type": "markdown",
   "metadata": {},
   "source": [
    "# Simplify the data"
   ]
  },
  {
   "cell_type": "code",
   "execution_count": null,
   "metadata": {
    "execution": {
     "iopub.execute_input": "2023-02-06T12:06:56.447406Z",
     "iopub.status.busy": "2023-02-06T12:06:56.446655Z",
     "iopub.status.idle": "2023-02-06T12:06:56.452358Z",
     "shell.execute_reply": "2023-02-06T12:06:56.451352Z",
     "shell.execute_reply.started": "2023-02-06T12:06:56.447367Z"
    }
   },
   "outputs": [],
   "source": [
    "df.columns=['sentiment','id','date','query','username','text']"
   ]
  },
  {
   "cell_type": "code",
   "execution_count": null,
   "metadata": {
    "execution": {
     "iopub.execute_input": "2023-02-06T12:06:57.052015Z",
     "iopub.status.busy": "2023-02-06T12:06:57.051641Z",
     "iopub.status.idle": "2023-02-06T12:06:57.064500Z",
     "shell.execute_reply": "2023-02-06T12:06:57.063422Z",
     "shell.execute_reply.started": "2023-02-06T12:06:57.051984Z"
    }
   },
   "outputs": [],
   "source": [
    "df.head()"
   ]
  },
  {
   "cell_type": "code",
   "execution_count": null,
   "metadata": {
    "execution": {
     "iopub.execute_input": "2023-02-06T12:07:00.473936Z",
     "iopub.status.busy": "2023-02-06T12:07:00.473558Z",
     "iopub.status.idle": "2023-02-06T12:07:00.480292Z",
     "shell.execute_reply": "2023-02-06T12:07:00.479195Z",
     "shell.execute_reply.started": "2023-02-06T12:07:00.473905Z"
    }
   },
   "outputs": [],
   "source": [
    "df.shape"
   ]
  },
  {
   "cell_type": "markdown",
   "metadata": {},
   "source": [
    "# Analysis"
   ]
  },
  {
   "cell_type": "code",
   "execution_count": null,
   "metadata": {
    "execution": {
     "iopub.execute_input": "2023-02-06T12:07:04.025759Z",
     "iopub.status.busy": "2023-02-06T12:07:04.024599Z",
     "iopub.status.idle": "2023-02-06T12:07:04.042655Z",
     "shell.execute_reply": "2023-02-06T12:07:04.041566Z",
     "shell.execute_reply.started": "2023-02-06T12:07:04.025711Z"
    }
   },
   "outputs": [],
   "source": [
    "df['sentiment'].value_counts()"
   ]
  },
  {
   "cell_type": "code",
   "execution_count": null,
   "metadata": {
    "execution": {
     "iopub.execute_input": "2023-02-06T12:07:05.139150Z",
     "iopub.status.busy": "2023-02-06T12:07:05.138675Z",
     "iopub.status.idle": "2023-02-06T12:07:05.144325Z",
     "shell.execute_reply": "2023-02-06T12:07:05.143205Z",
     "shell.execute_reply.started": "2023-02-06T12:07:05.139111Z"
    }
   },
   "outputs": [],
   "source": [
    "import seaborn as sns\n",
    "import matplotlib.pyplot as plt"
   ]
  },
  {
   "cell_type": "code",
   "execution_count": null,
   "metadata": {
    "execution": {
     "iopub.execute_input": "2023-02-06T12:07:08.274971Z",
     "iopub.status.busy": "2023-02-06T12:07:08.274612Z",
     "iopub.status.idle": "2023-02-06T12:07:12.004976Z",
     "shell.execute_reply": "2023-02-06T12:07:12.004018Z",
     "shell.execute_reply.started": "2023-02-06T12:07:08.274942Z"
    }
   },
   "outputs": [],
   "source": [
    "sns.histplot(df['sentiment'],kde=True)"
   ]
  },
  {
   "cell_type": "code",
   "execution_count": null,
   "metadata": {
    "execution": {
     "iopub.execute_input": "2023-02-06T12:07:12.008426Z",
     "iopub.status.busy": "2023-02-06T12:07:12.007777Z",
     "iopub.status.idle": "2023-02-06T12:07:12.254853Z",
     "shell.execute_reply": "2023-02-06T12:07:12.253852Z",
     "shell.execute_reply.started": "2023-02-06T12:07:12.008390Z"
    }
   },
   "outputs": [],
   "source": [
    "sns.countplot(df['sentiment'])"
   ]
  },
  {
   "cell_type": "code",
   "execution_count": null,
   "metadata": {
    "execution": {
     "iopub.execute_input": "2023-02-06T12:07:16.827113Z",
     "iopub.status.busy": "2023-02-06T12:07:16.826384Z",
     "iopub.status.idle": "2023-02-06T12:07:16.889335Z",
     "shell.execute_reply": "2023-02-06T12:07:16.888221Z",
     "shell.execute_reply.started": "2023-02-06T12:07:16.827052Z"
    }
   },
   "outputs": [],
   "source": [
    "df['query'].value_counts()"
   ]
  },
  {
   "cell_type": "markdown",
   "metadata": {},
   "source": [
    "# dropping unnecessary columns"
   ]
  },
  {
   "cell_type": "code",
   "execution_count": null,
   "metadata": {
    "execution": {
     "iopub.execute_input": "2023-02-06T12:07:22.034523Z",
     "iopub.status.busy": "2023-02-06T12:07:22.034140Z",
     "iopub.status.idle": "2023-02-06T12:07:22.081952Z",
     "shell.execute_reply": "2023-02-06T12:07:22.080946Z",
     "shell.execute_reply.started": "2023-02-06T12:07:22.034491Z"
    }
   },
   "outputs": [],
   "source": [
    "df=df.drop(columns=['query'])"
   ]
  },
  {
   "cell_type": "code",
   "execution_count": null,
   "metadata": {
    "execution": {
     "iopub.execute_input": "2023-02-06T12:07:22.084422Z",
     "iopub.status.busy": "2023-02-06T12:07:22.083942Z",
     "iopub.status.idle": "2023-02-06T12:07:22.096314Z",
     "shell.execute_reply": "2023-02-06T12:07:22.095270Z",
     "shell.execute_reply.started": "2023-02-06T12:07:22.084387Z"
    }
   },
   "outputs": [],
   "source": [
    "df.head()"
   ]
  },
  {
   "cell_type": "code",
   "execution_count": null,
   "metadata": {
    "execution": {
     "iopub.execute_input": "2023-02-06T12:07:22.145787Z",
     "iopub.status.busy": "2023-02-06T12:07:22.145159Z",
     "iopub.status.idle": "2023-02-06T12:07:22.152044Z",
     "shell.execute_reply": "2023-02-06T12:07:22.151150Z",
     "shell.execute_reply.started": "2023-02-06T12:07:22.145745Z"
    }
   },
   "outputs": [],
   "source": [
    "texts = df['text']"
   ]
  },
  {
   "cell_type": "code",
   "execution_count": null,
   "metadata": {
    "execution": {
     "iopub.execute_input": "2023-02-06T12:07:22.512234Z",
     "iopub.status.busy": "2023-02-06T12:07:22.511608Z",
     "iopub.status.idle": "2023-02-06T12:07:23.464211Z",
     "shell.execute_reply": "2023-02-06T12:07:23.463188Z",
     "shell.execute_reply.started": "2023-02-06T12:07:22.512197Z"
    }
   },
   "outputs": [],
   "source": [
    "text_lens = [len(t.split()) for t in texts.values]\n",
    "len_mean = np.mean(text_lens)"
   ]
  },
  {
   "cell_type": "markdown",
   "metadata": {},
   "source": [
    "# EDA"
   ]
  },
  {
   "cell_type": "code",
   "execution_count": null,
   "metadata": {
    "execution": {
     "iopub.execute_input": "2023-02-06T12:07:27.203365Z",
     "iopub.status.busy": "2023-02-06T12:07:27.202940Z",
     "iopub.status.idle": "2023-02-06T12:07:47.791578Z",
     "shell.execute_reply": "2023-02-06T12:07:47.790485Z",
     "shell.execute_reply.started": "2023-02-06T12:07:27.203329Z"
    }
   },
   "outputs": [],
   "source": [
    "fig, axes = plt.subplots(2,1, figsize=(10, 8))\n",
    "axes[0].set_title('Distribution of tweets')\n",
    "sns.barplot(text_lens, ax=axes[0])\n",
    "sns.histplot(text_lens,bins=100, kde=True, ax=axes[1],color='blue')\n",
    "axes[1].vlines(len_mean, 0, 5000, color = 'g')\n",
    "plt.annotate(\"mean\", xy=(len_mean, 5000), xytext=(len_mean-2, 5050),color='r')\n",
    "plt.show()"
   ]
  },
  {
   "cell_type": "code",
   "execution_count": null,
   "metadata": {
    "execution": {
     "iopub.execute_input": "2023-02-06T12:07:47.794950Z",
     "iopub.status.busy": "2023-02-06T12:07:47.794239Z",
     "iopub.status.idle": "2023-02-06T12:07:47.831396Z",
     "shell.execute_reply": "2023-02-06T12:07:47.830507Z",
     "shell.execute_reply.started": "2023-02-06T12:07:47.794912Z"
    }
   },
   "outputs": [],
   "source": [
    "stuff_to_be_removed = list(stopwords.words('english'))+list(punctuation)\n",
    "stemmer = LancasterStemmer()\n",
    "corpus = df['text'].tolist()\n",
    "print(len(corpus))\n",
    "print(corpus[0])"
   ]
  },
  {
   "cell_type": "code",
   "execution_count": null,
   "metadata": {
    "execution": {
     "iopub.execute_input": "2023-02-06T12:09:41.885583Z",
     "iopub.status.busy": "2023-02-06T12:09:41.885196Z",
     "iopub.status.idle": "2023-02-06T12:11:21.859963Z",
     "shell.execute_reply": "2023-02-06T12:11:21.858936Z",
     "shell.execute_reply.started": "2023-02-06T12:09:41.885527Z"
    }
   },
   "outputs": [],
   "source": [
    "final_corpus = []\n",
    "final_corpus_joined = []\n",
    "for i in df.index:\n",
    "    text = re.sub('[^a-zA-Z]', ' ', df['text'][i])\n",
    "    text = text.lower()\n",
    "    text=re.sub(\"&lt;/?.*?&gt;\",\" &lt;&gt; \",text)\n",
    "    text=re.sub(\"(\\\\d|\\\\W)+\",\" \",text)\n",
    "    text = text.split()\n",
    "    lem = WordNetLemmatizer()\n",
    "    text = [lem.lemmatize(word) for word in text  if not word in stuff_to_be_removed] \n",
    "    text1 = \" \".join(text)\n",
    "    final_corpus.append(text)\n",
    "    final_corpus_joined.append(text1)"
   ]
  },
  {
   "cell_type": "code",
   "execution_count": null,
   "metadata": {
    "execution": {
     "iopub.execute_input": "2023-02-06T12:11:37.398681Z",
     "iopub.status.busy": "2023-02-06T12:11:37.398272Z",
     "iopub.status.idle": "2023-02-06T12:11:37.739992Z",
     "shell.execute_reply": "2023-02-06T12:11:37.739020Z",
     "shell.execute_reply.started": "2023-02-06T12:11:37.398648Z"
    }
   },
   "outputs": [],
   "source": [
    "data_cleaned = pd.DataFrame()\n",
    "data_cleaned[\"text\"] = final_corpus_joined\n",
    "data_cleaned[\"sentiment\"] = df[\"sentiment\"].values"
   ]
  },
  {
   "cell_type": "code",
   "execution_count": null,
   "metadata": {
    "execution": {
     "iopub.execute_input": "2023-02-06T12:11:38.580497Z",
     "iopub.status.busy": "2023-02-06T12:11:38.579819Z",
     "iopub.status.idle": "2023-02-06T12:11:39.281391Z",
     "shell.execute_reply": "2023-02-06T12:11:39.280405Z",
     "shell.execute_reply.started": "2023-02-06T12:11:38.580460Z"
    }
   },
   "outputs": [],
   "source": [
    "data_eda = pd.DataFrame()\n",
    "data_eda['text'] = final_corpus\n",
    "data_eda['sentiment'] = df['sentiment'].values\n",
    "data_eda.head()"
   ]
  },
  {
   "cell_type": "code",
   "execution_count": null,
   "metadata": {
    "execution": {
     "iopub.execute_input": "2023-02-06T12:11:42.677871Z",
     "iopub.status.busy": "2023-02-06T12:11:42.677485Z",
     "iopub.status.idle": "2023-02-06T12:11:42.761519Z",
     "shell.execute_reply": "2023-02-06T12:11:42.760439Z",
     "shell.execute_reply.started": "2023-02-06T12:11:42.677840Z"
    }
   },
   "outputs": [],
   "source": [
    "positive = data_eda[data_eda['sentiment'] == 4]\n",
    "positive_list = positive['text'].tolist()\n",
    "negative = data_eda[data_eda['sentiment'] == 0]\n",
    "negative_list = negative['text'].tolist()"
   ]
  },
  {
   "cell_type": "code",
   "execution_count": null,
   "metadata": {
    "execution": {
     "iopub.execute_input": "2023-02-06T12:11:43.574171Z",
     "iopub.status.busy": "2023-02-06T12:11:43.573820Z",
     "iopub.status.idle": "2023-02-06T12:11:44.361524Z",
     "shell.execute_reply": "2023-02-06T12:11:44.360550Z",
     "shell.execute_reply.started": "2023-02-06T12:11:43.574142Z"
    }
   },
   "outputs": [],
   "source": [
    "positive_all = \" \".join([word for sent in positive_list for word in sent ])\n",
    "negative_all = \" \".join([word for sent in negative_list for word in sent ])"
   ]
  },
  {
   "cell_type": "markdown",
   "metadata": {},
   "source": [
    "# Word cloud positive data"
   ]
  },
  {
   "cell_type": "code",
   "execution_count": null,
   "metadata": {
    "execution": {
     "iopub.execute_input": "2023-02-06T12:11:48.068101Z",
     "iopub.status.busy": "2023-02-06T12:11:48.067614Z",
     "iopub.status.idle": "2023-02-06T12:12:04.659495Z",
     "shell.execute_reply": "2023-02-06T12:12:04.658586Z",
     "shell.execute_reply.started": "2023-02-06T12:11:48.068056Z"
    }
   },
   "outputs": [],
   "source": [
    "from wordcloud import WordCloud\n",
    "WordCloud()\n",
    "wordcloud = WordCloud(width=1000,\n",
    "                      height=500,\n",
    "                      background_color='skyblue',\n",
    "                      max_words = 90).generate(positive_all)\n",
    "\n",
    "plt.figure(figsize=(30,20))\n",
    "plt.imshow(wordcloud)\n",
    "plt.title(\"Positive\")\n",
    "plt.show()"
   ]
  },
  {
   "cell_type": "markdown",
   "metadata": {},
   "source": [
    "# Word cloud negative data"
   ]
  },
  {
   "cell_type": "code",
   "execution_count": null,
   "metadata": {
    "execution": {
     "iopub.execute_input": "2023-02-06T12:12:12.559060Z",
     "iopub.status.busy": "2023-02-06T12:12:12.558670Z",
     "iopub.status.idle": "2023-02-06T12:12:59.016640Z",
     "shell.execute_reply": "2023-02-06T12:12:59.015785Z",
     "shell.execute_reply.started": "2023-02-06T12:12:12.559029Z"
    }
   },
   "outputs": [],
   "source": [
    "from wordcloud import WordCloud\n",
    "WordCloud()\n",
    "wordcloud = WordCloud(width=1000,\n",
    "                      height=500,\n",
    "                      background_color='skyblue',\n",
    "                      max_words = 90).generate(negative_all)\n",
    "\n",
    "plt.figure(figsize=(30,20))\n",
    "plt.imshow(wordcloud)\n",
    "plt.title(\"negative\")\n",
    "plt.show()"
   ]
  },
  {
   "cell_type": "markdown",
   "metadata": {},
   "source": [
    "# TFIDF for sentiment analysis"
   ]
  },
  {
   "cell_type": "code",
   "execution_count": null,
   "metadata": {
    "execution": {
     "iopub.execute_input": "2023-02-06T12:13:07.532076Z",
     "iopub.status.busy": "2023-02-06T12:13:07.531676Z",
     "iopub.status.idle": "2023-02-06T12:13:18.871633Z",
     "shell.execute_reply": "2023-02-06T12:13:18.870593Z",
     "shell.execute_reply.started": "2023-02-06T12:13:07.532042Z"
    }
   },
   "outputs": [],
   "source": [
    "from sklearn.feature_extraction.text import TfidfVectorizer\n",
    "tfidf = TfidfVectorizer()\n",
    "xt = tfidf.fit_transform(data_cleaned['text'])\n",
    "y = data_cleaned['sentiment']"
   ]
  },
  {
   "cell_type": "markdown",
   "metadata": {},
   "source": [
    "# Train Test Split"
   ]
  },
  {
   "cell_type": "code",
   "execution_count": null,
   "metadata": {
    "execution": {
     "iopub.execute_input": "2023-02-06T12:13:21.966323Z",
     "iopub.status.busy": "2023-02-06T12:13:21.965949Z",
     "iopub.status.idle": "2023-02-06T12:13:22.381389Z",
     "shell.execute_reply": "2023-02-06T12:13:22.380389Z",
     "shell.execute_reply.started": "2023-02-06T12:13:21.966294Z"
    }
   },
   "outputs": [],
   "source": [
    "from sklearn.model_selection import train_test_split\n",
    "X_train, X_test, y_train, y_test = train_test_split(xt, \n",
    "                                                    y, \n",
    "                                                    test_size=0.33, \n",
    "                                                    random_state=42,\n",
    "                                                    stratify = y)"
   ]
  },
  {
   "cell_type": "markdown",
   "metadata": {},
   "source": [
    "# LogisticRegression"
   ]
  },
  {
   "cell_type": "code",
   "execution_count": null,
   "metadata": {
    "execution": {
     "iopub.execute_input": "2023-02-06T12:13:27.331315Z",
     "iopub.status.busy": "2023-02-06T12:13:27.330956Z",
     "iopub.status.idle": "2023-02-06T12:13:27.336202Z",
     "shell.execute_reply": "2023-02-06T12:13:27.334893Z",
     "shell.execute_reply.started": "2023-02-06T12:13:27.331284Z"
    }
   },
   "outputs": [],
   "source": [
    "from sklearn.metrics import accuracy_score,confusion_matrix,classification_report\n",
    "from sklearn.linear_model import LogisticRegression"
   ]
  },
  {
   "cell_type": "code",
   "execution_count": null,
   "metadata": {
    "execution": {
     "iopub.execute_input": "2023-02-06T12:13:27.628862Z",
     "iopub.status.busy": "2023-02-06T12:13:27.626883Z",
     "iopub.status.idle": "2023-02-06T12:13:54.897433Z",
     "shell.execute_reply": "2023-02-06T12:13:54.895845Z",
     "shell.execute_reply.started": "2023-02-06T12:13:27.628814Z"
    }
   },
   "outputs": [],
   "source": [
    "lr = LogisticRegression()\n",
    "lr.fit(X_train,y_train)"
   ]
  },
  {
   "cell_type": "markdown",
   "metadata": {},
   "source": [
    "# Accuracy Score: 85% "
   ]
  },
  {
   "cell_type": "code",
   "execution_count": null,
   "metadata": {
    "execution": {
     "iopub.execute_input": "2023-02-06T12:14:05.157997Z",
     "iopub.status.busy": "2023-02-06T12:14:05.157641Z",
     "iopub.status.idle": "2023-02-06T12:14:05.253187Z",
     "shell.execute_reply": "2023-02-06T12:14:05.252063Z",
     "shell.execute_reply.started": "2023-02-06T12:14:05.157969Z"
    }
   },
   "outputs": [],
   "source": [
    "y_train_pred = lr.predict(X_train)\n",
    "y_test_pred = lr.predict(X_test)\n",
    "accuracy_score(y_train,y_train_pred)*100"
   ]
  },
  {
   "cell_type": "code",
   "execution_count": null,
   "metadata": {},
   "outputs": [],
   "source": []
  }
 ],
 "metadata": {
  "kernelspec": {
   "display_name": "Python 3 (ipykernel)",
   "language": "python",
   "name": "python3"
  },
  "language_info": {
   "codemirror_mode": {
    "name": "ipython",
    "version": 3
   },
   "file_extension": ".py",
   "mimetype": "text/x-python",
   "name": "python",
   "nbconvert_exporter": "python",
   "pygments_lexer": "ipython3",
   "version": "3.9.13"
  }
 },
 "nbformat": 4,
 "nbformat_minor": 4
}
